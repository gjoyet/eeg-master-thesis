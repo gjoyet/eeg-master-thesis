{
 "cells": [
  {
   "cell_type": "code",
   "execution_count": 1,
   "metadata": {
    "collapsed": true,
    "pycharm": {
     "name": "#%%\n"
    }
   },
   "outputs": [],
   "source": [
    "import os.path\n",
    "import mne\n",
    "import numpy as np\n",
    "import pandas as pd\n",
    "\n",
    "from utils.dataloader import load_subject_labels\n",
    "\n",
    "wd = '/Volumes/Guillaume EEG Project'\n",
    "epoch_data_path = os.path.join(wd, 'Berlin_Data/EEG/preprocessed/stim_epochs_incl_response')\n",
    "raw_data_path = os.path.join(wd, 'Berlin_Data/EEG/raw')"
   ]
  },
  {
   "cell_type": "code",
   "execution_count": 5,
   "outputs": [
    {
     "name": "stdout",
     "output_type": "stream",
     "text": [
      "Extracting parameters from /Volumes/Guillaume EEG Project/Berlin_Data/EEG/raw/204/204_2afc_run1.vhdr...\n",
      "Setting channel info structure...\n",
      "Extracting parameters from /Volumes/Guillaume EEG Project/Berlin_Data/EEG/raw/204/204_2afc_run2.vhdr...\n",
      "Setting channel info structure...\n",
      "Extracting parameters from /Volumes/Guillaume EEG Project/Berlin_Data/EEG/raw/204/204_2afc_run3.vhdr...\n",
      "Setting channel info structure...\n",
      "Extracting parameters from /Volumes/Guillaume EEG Project/Berlin_Data/EEG/raw/204/204_2afc_run4.vhdr...\n",
      "Setting channel info structure...\n",
      "Extracting parameters from /Volumes/Guillaume EEG Project/Berlin_Data/EEG/raw/204/204_2afc_run5.vhdr...\n",
      "Setting channel info structure...\n",
      "Extracting parameters from /Volumes/Guillaume EEG Project/Berlin_Data/EEG/raw/204/204_2afc_run6.vhdr...\n",
      "Setting channel info structure...\n",
      "     response  confidence  choice_rt  correct  session  run\n",
      "0          -1           2   0.616309        1        1    5\n",
      "1          -1           1   0.868505        1        1    5\n",
      "2          -1           1   0.542291        1        1    5\n",
      "3          -1           1   0.594178        1        1    5\n",
      "4           1           1   0.453251        0        1    5\n",
      "..        ...         ...        ...      ...      ...  ...\n",
      "325         1           1   1.180957        1        1    3\n",
      "326         1           2   0.729350        1        1    3\n",
      "327         1           1   1.309284        1        1    3\n",
      "328         1           1   0.891063        1        1    3\n",
      "329         1           1   0.647311        1        1    3\n",
      "\n",
      "[330 rows x 6 columns]\n"
     ]
    }
   ],
   "source": [
    "# Load the raw data\n",
    "subject_id = 204\n",
    "\n",
    "raws = []\n",
    "for file in [os.path.join(wd, raw_data_path, '{}/{}_2afc_run{}.vhdr'.format(subject_id, subject_id, suffix)) for suffix in range(1, 7)]:\n",
    "    if os.path.isfile(file):\n",
    "        raw = mne.io.read_raw_brainvision(file)\n",
    "        raws.append(raw)\n",
    "\n",
    "behav_data = load_subject_labels(os.path.join(wd, raw_data_path), subject_id=subject_id)\n",
    "\n",
    "print(behav_data)"
   ],
   "metadata": {
    "collapsed": false,
    "pycharm": {
     "name": "#%%\n"
    }
   }
  },
  {
   "cell_type": "code",
   "execution_count": 6,
   "outputs": [
    {
     "name": "stdout",
     "output_type": "stream",
     "text": [
      "6\n",
      "---------------1---------------\n",
      "<RawBrainVision | 204_2afc_run1.eeg, 63 x 423445 (423.4 s), ~93 kB, data not loaded>\n",
      "Stimulus/S 50    550\n",
      "Stimulus/S150     55\n",
      "Stimulus/S 64     55\n",
      "Stimulus/S 48     55\n",
      "Stimulus/S 46     55\n",
      "Stimulus/S 56     55\n",
      "Stimulus/S 73     55\n",
      "Stimulus/S151     55\n",
      "Stimulus/S 11     45\n",
      "Stimulus/S 29     45\n",
      "Stimulus/S 40     29\n",
      "Stimulus/S  6     28\n",
      "Stimulus/S  8     28\n",
      "Stimulus/S  7     28\n",
      "Stimulus/S 41     26\n",
      "Stimulus/S  3     24\n",
      "Stimulus/S  4     24\n",
      "Stimulus/S  5     24\n",
      "Stimulus/S 20     11\n",
      "Stimulus/S 28     10\n",
      "Stimulus/S 10     10\n",
      "Stimulus/S 76      8\n",
      "Stimulus/S 21      8\n",
      "Stimulus/S 22      7\n",
      "Stimulus/S 23      7\n",
      "Stimulus/S105      1\n",
      "Name: count, dtype: int64\n",
      "2023-07-27 14:08:06.526241+00:00\n",
      "55 trials\n",
      "\n",
      "---------------2---------------\n",
      "<RawBrainVision | 204_2afc_run2.eeg, 63 x 394707 (394.7 s), ~93 kB, data not loaded>\n",
      "Stimulus/S 50    550\n",
      "Stimulus/S150     55\n",
      "Stimulus/S 64     55\n",
      "Stimulus/S 48     55\n",
      "Stimulus/S 46     55\n",
      "Stimulus/S 56     55\n",
      "Stimulus/S 73     55\n",
      "Stimulus/S151     55\n",
      "Stimulus/S 29     43\n",
      "Stimulus/S 11     43\n",
      "Stimulus/S 41     31\n",
      "Stimulus/S  7     28\n",
      "Stimulus/S  6     28\n",
      "Stimulus/S  8     28\n",
      "Stimulus/S  4     24\n",
      "Stimulus/S  5     24\n",
      "Stimulus/S  3     24\n",
      "Stimulus/S 40     24\n",
      "Stimulus/S 76     12\n",
      "Stimulus/S 28     12\n",
      "Stimulus/S 10     12\n",
      "Stimulus/S 21     12\n",
      "Stimulus/S 23     10\n",
      "Stimulus/S 20      9\n",
      "Stimulus/S 22      8\n",
      "Stimulus/S 24      1\n",
      "Stimulus/S 27      1\n",
      "Stimulus/S105      1\n",
      "Name: count, dtype: int64\n",
      "2023-07-27 14:18:53.934939+00:00\n",
      "55 trials\n",
      "\n",
      "---------------3---------------\n",
      "<RawBrainVision | 204_2afc_run3.eeg, 63 x 398450 (398.4 s), ~93 kB, data not loaded>\n",
      "Stimulus/S 50    550\n",
      "Stimulus/S 73     55\n",
      "Stimulus/S150     55\n",
      "Stimulus/S 64     55\n",
      "Stimulus/S 48     55\n",
      "Stimulus/S 46     55\n",
      "Stimulus/S 56     55\n",
      "Stimulus/S151     55\n",
      "Stimulus/S 29     45\n",
      "Stimulus/S 11     45\n",
      "Stimulus/S 40     39\n",
      "Stimulus/S  7     28\n",
      "Stimulus/S  6     28\n",
      "Stimulus/S  8     28\n",
      "Stimulus/S  5     24\n",
      "Stimulus/S  4     24\n",
      "Stimulus/S  3     24\n",
      "Stimulus/S 76     19\n",
      "Stimulus/S 41     16\n",
      "Stimulus/S 20     15\n",
      "Stimulus/S 28     10\n",
      "Stimulus/S 10     10\n",
      "Stimulus/S 22      9\n",
      "Stimulus/S 23      9\n",
      "Stimulus/S 21      6\n",
      "Stimulus/S105      1\n",
      "Stimulus/S 24      1\n",
      "Name: count, dtype: int64\n",
      "2023-07-27 14:26:36.501153+00:00\n",
      "55 trials\n",
      "\n",
      "---------------4---------------\n",
      "<RawBrainVision | 204_2afc_run4.eeg, 63 x 395376 (395.4 s), ~93 kB, data not loaded>\n",
      "Stimulus/S 50    550\n",
      "Stimulus/S151     55\n",
      "Stimulus/S150     55\n",
      "Stimulus/S 64     55\n",
      "Stimulus/S 48     55\n",
      "Stimulus/S 46     55\n",
      "Stimulus/S 56     55\n",
      "Stimulus/S 73     55\n",
      "Stimulus/S 29     43\n",
      "Stimulus/S 11     43\n",
      "Stimulus/S 40     32\n",
      "Stimulus/S  6     28\n",
      "Stimulus/S  8     28\n",
      "Stimulus/S  7     28\n",
      "Stimulus/S  4     24\n",
      "Stimulus/S  5     24\n",
      "Stimulus/S  3     24\n",
      "Stimulus/S 41     23\n",
      "Stimulus/S 76     15\n",
      "Stimulus/S 10     12\n",
      "Stimulus/S 28     12\n",
      "Stimulus/S 22     11\n",
      "Stimulus/S 20     11\n",
      "Stimulus/S 21      7\n",
      "Stimulus/S 23      7\n",
      "Stimulus/S105      1\n",
      "Name: count, dtype: int64\n",
      "2023-07-27 14:38:55.091077+00:00\n",
      "55 trials\n",
      "\n",
      "---------------5---------------\n",
      "<RawBrainVision | 204_2afc_run5.eeg, 63 x 401277 (401.3 s), ~93 kB, data not loaded>\n",
      "Stimulus/S 50    550\n",
      "Stimulus/S 56     55\n",
      "Stimulus/S150     55\n",
      "Stimulus/S 64     55\n",
      "Stimulus/S 48     55\n",
      "Stimulus/S 46     55\n",
      "Stimulus/S 73     55\n",
      "Stimulus/S151     55\n",
      "Stimulus/S 29     42\n",
      "Stimulus/S 11     42\n",
      "Stimulus/S 41     31\n",
      "Stimulus/S  7     28\n",
      "Stimulus/S  6     28\n",
      "Stimulus/S  8     28\n",
      "Stimulus/S  4     24\n",
      "Stimulus/S  3     24\n",
      "Stimulus/S 40     24\n",
      "Stimulus/S  5     24\n",
      "Stimulus/S 28     13\n",
      "Stimulus/S 10     13\n",
      "Stimulus/S 22     12\n",
      "Stimulus/S 23     10\n",
      "Stimulus/S 76      8\n",
      "Stimulus/S 20      8\n",
      "Stimulus/S 21      5\n",
      "Stimulus/S105      1\n",
      "Name: count, dtype: int64\n",
      "2023-07-27 14:47:26.797951+00:00\n",
      "55 trials\n",
      "\n",
      "---------------6---------------\n",
      "<RawBrainVision | 204_2afc_run6.eeg, 63 x 419255 (419.3 s), ~93 kB, data not loaded>\n",
      "Stimulus/S 50    550\n",
      "Stimulus/S150     55\n",
      "Stimulus/S151     55\n",
      "Stimulus/S 64     55\n",
      "Stimulus/S 48     55\n",
      "Stimulus/S 73     55\n",
      "Stimulus/S 56     55\n",
      "Stimulus/S 46     55\n",
      "Stimulus/S 29     43\n",
      "Stimulus/S 11     43\n",
      "Stimulus/S 40     34\n",
      "Stimulus/S  6     28\n",
      "Stimulus/S  8     28\n",
      "Stimulus/S  7     28\n",
      "Stimulus/S  5     24\n",
      "Stimulus/S  4     24\n",
      "Stimulus/S  3     24\n",
      "Stimulus/S 76     21\n",
      "Stimulus/S 41     21\n",
      "Stimulus/S 23     14\n",
      "Stimulus/S 10     12\n",
      "Stimulus/S 28     12\n",
      "Stimulus/S 21     11\n",
      "Stimulus/S 22      8\n",
      "Stimulus/S 20      4\n",
      "Stimulus/S105      1\n",
      "Name: count, dtype: int64\n",
      "2023-07-27 14:54:58.824024+00:00\n",
      "55 trials\n",
      "\n"
     ]
    }
   ],
   "source": [
    "## SPLIT RAW INTO BLOCKS\n",
    "# Specify the annotation type you want to use for splitting\n",
    "split_annotation_type = 'Stimulus/S105'\n",
    "\n",
    "raw_segments = []\n",
    "for raw in raws:\n",
    "    # Find the onset times of the relevant annotations\n",
    "    split_onsets = [annot['onset'] for annot in raw.annotations if annot['description'] == split_annotation_type]\n",
    "\n",
    "    # Sort the onsets and add the start and end times of the raw object for splitting\n",
    "    split_onsets = split_onsets + [raw.times[-1]]\n",
    "\n",
    "    # Iterate over consecutive pairs of split points to create new raw segments\n",
    "    for start, end in zip(split_onsets[:-1], split_onsets[1:]):\n",
    "        raw_segment = raw.copy().crop(tmin=start, tmax=end, include_tmax=False)\n",
    "        trial_n = pd.Series(raw_segment.annotations.description).value_counts()['Stimulus/S151']\n",
    "        if trial_n == 55:\n",
    "            raw_segments.append(raw_segment)\n",
    "\n",
    "# Now raw_segments is a list of mne.io.Raw objects split at the specified annotations\n",
    "print(len(raw_segments))\n",
    "\n",
    "for i, seg in enumerate(raw_segments):\n",
    "    print('---------------{}---------------'.format(i+1))\n",
    "    print(seg)\n",
    "    print(pd.Series(seg.annotations.description).value_counts())\n",
    "    trial_n = pd.Series(seg.annotations.description).value_counts()['Stimulus/S151']\n",
    "    print(seg.info['meas_date'])\n",
    "    print('{} trials'.format(trial_n))\n",
    "    print('')"
   ],
   "metadata": {
    "collapsed": false,
    "pycharm": {
     "name": "#%%\n"
    }
   }
  },
  {
   "cell_type": "code",
   "execution_count": 6,
   "outputs": [
    {
     "name": "stdout",
     "output_type": "stream",
     "text": [
      "8\n"
     ]
    }
   ],
   "source": [
    "# TODO: will need to select correct segments and correct behavioural data.\n",
    "#       Don't know if this will work in an automated fashion, otherwise compare everything by eye...\n",
    "raw_segments = raw_segments[1:]\n",
    "print(len(raw_segments))"
   ],
   "metadata": {
    "collapsed": false,
    "pycharm": {
     "name": "#%%\n"
    }
   }
  },
  {
   "cell_type": "code",
   "execution_count": 4,
   "outputs": [
    {
     "name": "stdout",
     "output_type": "stream",
     "text": [
      "119\n"
     ]
    },
    {
     "ename": "ValueError",
     "evalue": "The number of 'Stimulus/S 48' annotations does not match the number of rows in the DataFrame.",
     "output_type": "error",
     "traceback": [
      "\u001B[0;31m---------------------------------------------------------------------------\u001B[0m",
      "\u001B[0;31mValueError\u001B[0m                                Traceback (most recent call last)",
      "Cell \u001B[0;32mIn[4], line 11\u001B[0m\n\u001B[1;32m      9\u001B[0m \u001B[38;5;28mprint\u001B[39m(\u001B[38;5;28mlen\u001B[39m(df))\n\u001B[1;32m     10\u001B[0m \u001B[38;5;28;01mif\u001B[39;00m \u001B[38;5;28mlen\u001B[39m(stimulus_onsets) \u001B[38;5;241m!=\u001B[39m \u001B[38;5;28mlen\u001B[39m(df):\n\u001B[0;32m---> 11\u001B[0m     \u001B[38;5;28;01mraise\u001B[39;00m \u001B[38;5;167;01mValueError\u001B[39;00m(\u001B[38;5;124m\"\u001B[39m\u001B[38;5;124mThe number of \u001B[39m\u001B[38;5;124m'\u001B[39m\u001B[38;5;124mStimulus/S 48\u001B[39m\u001B[38;5;124m'\u001B[39m\u001B[38;5;124m annotations does not match the number of rows in the DataFrame.\u001B[39m\u001B[38;5;124m\"\u001B[39m)\n\u001B[1;32m     13\u001B[0m \u001B[38;5;66;03m# Step 3: Create new annotations based on the reaction times in the DataFrame\u001B[39;00m\n\u001B[1;32m     14\u001B[0m \u001B[38;5;28;01mfor\u001B[39;00m onset, choice_rt \u001B[38;5;129;01min\u001B[39;00m \u001B[38;5;28mzip\u001B[39m(stimulus_onsets, df[\u001B[38;5;124m'\u001B[39m\u001B[38;5;124mchoice_rt\u001B[39m\u001B[38;5;124m'\u001B[39m]):\n",
      "\u001B[0;31mValueError\u001B[0m: The number of 'Stimulus/S 48' annotations does not match the number of rows in the DataFrame."
     ]
    }
   ],
   "source": [
    "## CREATE NEW ANNOTATIONS FOR RESPONSE TIMES\n",
    "for i, seg in enumerate(raw_segments):\n",
    "    df = behav_data[behav_data['run'] == i + 1]\n",
    "\n",
    "    # Step 1: Extract the onsets of 'Stimulus/S 48' annotations\n",
    "    stimulus_onsets = [annot['onset'] for annot in seg.annotations if annot['description'] == 'Stimulus/S 48']\n",
    "\n",
    "    # Step 2: Ensure the number of onsets matches the number of rows in the DataFrame\n",
    "    if len(stimulus_onsets) != len(df):\n",
    "        raise ValueError(\"The number of 'Stimulus/S 48' annotations does not match the number of rows in the DataFrame.\")\n",
    "\n",
    "    # Step 3: Create new annotations based on the reaction times in the DataFrame\n",
    "    for onset, choice_rt in zip(stimulus_onsets, df['choice_rt']):\n",
    "        late_threshold = 1.000\n",
    "        if not np.isnan(choice_rt):\n",
    "            new_onset = onset + choice_rt  # Calculate the new annotation onset time\n",
    "            if choice_rt < late_threshold:\n",
    "                seg.annotations.append(onset=new_onset, duration=0, description='Response')\n",
    "            else:\n",
    "                seg.annotations.append(onset=new_onset, duration=0, description='Late Response')\n",
    "        else:\n",
    "            new_onset = onset + 0.001  # Calculate the new annotation onset time\n",
    "            seg.annotations.append(onset=new_onset, duration=0, description='No Response')"
   ],
   "metadata": {
    "collapsed": false,
    "pycharm": {
     "name": "#%%\n"
    }
   }
  },
  {
   "cell_type": "code",
   "execution_count": 6,
   "outputs": [],
   "source": [
    "# for i, an in enumerate(raw_segments[-1].annotations):\n",
    "#     if an['description'] in [*['Stimulus/S{:>3}'.format(stim) for stim in [20, 21, 22, 23, 48]], 'Response', 'No Response']:\n",
    "#         print(an)\n",
    "#     if i == 200:\n",
    "#         break"
   ],
   "metadata": {
    "collapsed": false,
    "pycharm": {
     "name": "#%%\n"
    }
   }
  },
  {
   "cell_type": "code",
   "execution_count": 8,
   "outputs": [
    {
     "name": "stdout",
     "output_type": "stream",
     "text": [
      "Used Annotations descriptions: [np.str_('Stimulus/S 64')]\n",
      "Not setting metadata\n",
      "55 matching events found\n",
      "No baseline correction applied\n",
      "0 projection items activated\n",
      "Loading data for 55 events and 3501 original time points ...\n",
      "0 bad epochs dropped\n",
      "Used Annotations descriptions: [np.str_('Stimulus/S 64')]\n",
      "Not setting metadata\n",
      "55 matching events found\n",
      "No baseline correction applied\n",
      "0 projection items activated\n",
      "Loading data for 55 events and 3501 original time points ...\n",
      "1 bad epochs dropped\n",
      "Used Annotations descriptions: [np.str_('Stimulus/S 64')]\n",
      "Not setting metadata\n",
      "55 matching events found\n",
      "No baseline correction applied\n",
      "0 projection items activated\n",
      "Loading data for 55 events and 3501 original time points ...\n",
      "0 bad epochs dropped\n",
      "Used Annotations descriptions: [np.str_('Stimulus/S 64')]\n",
      "Not setting metadata\n",
      "55 matching events found\n",
      "No baseline correction applied\n",
      "0 projection items activated\n",
      "Loading data for 55 events and 3501 original time points ...\n",
      "0 bad epochs dropped\n",
      "Used Annotations descriptions: [np.str_('Stimulus/S 64')]\n",
      "Not setting metadata\n",
      "55 matching events found\n",
      "No baseline correction applied\n",
      "0 projection items activated\n",
      "Loading data for 55 events and 3501 original time points ...\n",
      "0 bad epochs dropped\n",
      "Used Annotations descriptions: [np.str_('Stimulus/S 64')]\n",
      "Not setting metadata\n",
      "55 matching events found\n",
      "No baseline correction applied\n",
      "0 projection items activated\n",
      "Loading data for 55 events and 3501 original time points ...\n",
      "0 bad epochs dropped\n",
      "<Epochs | 55 events (all good), -1 – 2.5 s (baseline off), ~92.6 MB, data loaded,\n",
      " np.str_('Stimulus/S 64'): 55>\n"
     ]
    }
   ],
   "source": [
    "## EXTRACT EPOCHS\n",
    "# Define the epochs\n",
    "tmin = -1.0  # Start of each epoch (e.g., 2250 ms before the event)\n",
    "tmax = 2.5   # End of each epoch (e.g., 250 ms after the event)\n",
    "\n",
    "epochs_list = []\n",
    "for seg in raw_segments:\n",
    "    events, event_id = mne.events_from_annotations(seg, event_id={'Stimulus/S 64': 1}) #event_id={'Response': 1, 'Late Response': 2, 'No Response': 3})\n",
    "    epochs_list.append(mne.Epochs(seg, events, event_id=event_id, tmin=tmin, tmax=tmax, baseline=None, preload=True))\n",
    "\n",
    "# Step 5: Inspect the epochs\n",
    "print(epochs_list[0])"
   ],
   "metadata": {
    "collapsed": false,
    "pycharm": {
     "name": "#%%\n"
    }
   }
  },
  {
   "cell_type": "code",
   "execution_count": null,
   "outputs": [],
   "source": [
    "# TODO: select epochs that have response, drop the rest according to annotation 'Late Response' / 'No Response'."
   ],
   "metadata": {
    "collapsed": false,
    "pycharm": {
     "name": "#%%\n"
    }
   }
  },
  {
   "cell_type": "code",
   "execution_count": null,
   "outputs": [],
   "source": [],
   "metadata": {
    "collapsed": false,
    "pycharm": {
     "name": "#%%\n"
    }
   }
  }
 ],
 "metadata": {
  "kernelspec": {
   "display_name": "Python 3",
   "language": "python",
   "name": "python3"
  },
  "language_info": {
   "codemirror_mode": {
    "name": "ipython",
    "version": 2
   },
   "file_extension": ".py",
   "mimetype": "text/x-python",
   "name": "python",
   "nbconvert_exporter": "python",
   "pygments_lexer": "ipython2",
   "version": "2.7.6"
  }
 },
 "nbformat": 4,
 "nbformat_minor": 0
}